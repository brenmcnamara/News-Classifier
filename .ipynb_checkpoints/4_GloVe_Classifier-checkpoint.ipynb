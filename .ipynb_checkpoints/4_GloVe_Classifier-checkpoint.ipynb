{
 "cells": [
  {
   "cell_type": "markdown",
   "metadata": {},
   "source": [
    "# GloVe Classifier"
   ]
  },
  {
   "cell_type": "markdown",
   "metadata": {},
   "source": [
    "This is a version of the News Classifier that uses GloVe vectors for classification. GloVe vectors were downloaded from [here](https://nlp.stanford.edu/projects/glove/). The vectors are stored in the `data` folder of this repo, which is not commited to source code.\n",
    "\n",
    "We implement two models in this notebook: the first uses a simple averaging of word vectors while the other uses a TF-IDF weighting of word vectors.\n",
    "\n",
    "The weighted / non-weighted averaging of word embeddings is then passed into a logistic regression model for class prediction.\n",
    "\n",
    "**Note: There are some random processes within this notebook, so different runs of the notebook may result in different outcomes.**\n",
    "\n",
    "**Note: This notebook assumes the data being loaded has already been randomly shuffled.**"
   ]
  },
  {
   "cell_type": "code",
   "execution_count": 65,
   "metadata": {},
   "outputs": [],
   "source": [
    "import math\n",
    "import matplotlib.pyplot as plt\n",
    "import numpy as np\n",
    "import pandas as pd\n",
    "import torch\n",
    "\n",
    "from time import time\n",
    "from torch.utils.data import BatchSampler, Dataset, DataLoader, SequentialSampler\n"
   ]
  },
  {
   "cell_type": "markdown",
   "metadata": {},
   "source": [
    "## Load and Setup the Data"
   ]
  },
  {
   "cell_type": "code",
   "execution_count": 2,
   "metadata": {},
   "outputs": [
    {
     "name": "stdout",
     "output_type": "stream",
     "text": [
      "Ran in 0.58m.\n"
     ]
    }
   ],
   "source": [
    "start_time = time()\n",
    "\n",
    "data = pd.read_pickle('./data/train_data_glove.pickle')\n",
    "labels = pd.read_pickle('./data/train_labels.pickle')\n",
    "word_embeddings = pd.read_pickle('./data/embeddings.50d.pickle')\n",
    "\n",
    "end_time = time()\n",
    "\n",
    "print(f'Ran in {(end_time - start_time)/60:.02f}m.')\n"
   ]
  },
  {
   "cell_type": "code",
   "execution_count": 3,
   "metadata": {},
   "outputs": [],
   "source": [
    "# Since we are using the word embeddings provided,\n",
    "# we can't make use of the __LOW_FREQ_TOKEN__ and\n",
    "# __UNK__ tokens. Drop those columns.\n",
    "\n",
    "data = data.drop(columns=['__LOW_FREQ_TOKEN__', '__UNK__'])\n"
   ]
  },
  {
   "cell_type": "code",
   "execution_count": 6,
   "metadata": {},
   "outputs": [],
   "source": [
    "# Remove rows with no words.\n",
    "non_zero_mask = data.sum(axis=1) != 0\n",
    "\n",
    "data = data[non_zero_mask]\n",
    "labels = labels[non_zero_mask]\n"
   ]
  },
  {
   "cell_type": "code",
   "execution_count": 7,
   "metadata": {},
   "outputs": [],
   "source": [
    "word_encoder = {w:i for i,w in enumerate(word_embeddings.index)}\n",
    "word_decoder = {i:w for w,i in word_encoder.items()}\n"
   ]
  },
  {
   "cell_type": "code",
   "execution_count": 8,
   "metadata": {},
   "outputs": [],
   "source": [
    "# Will sort the columns in the data to match the\n",
    "# encoding of the word embeddings. This will make\n",
    "# things easier later on.\n",
    "\n",
    "data = data[sorted(data.columns, key=lambda word: word_encoder[word])]\n"
   ]
  },
  {
   "cell_type": "code",
   "execution_count": 9,
   "metadata": {},
   "outputs": [],
   "source": [
    "label_types = {l for l in labels}\n",
    "\n",
    "label_encoder = {l:i for i, l in enumerate(label_types)}\n",
    "label_decoder = {i:l for l, i in label_encoder.items()}\n"
   ]
  },
  {
   "cell_type": "code",
   "execution_count": 10,
   "metadata": {},
   "outputs": [],
   "source": [
    "data = torch.LongTensor(data.values)\n",
    "labels = torch.LongTensor([label_encoder[l] for l in labels])\n",
    "embeddings = torch.FloatTensor(word_embeddings.values)\n"
   ]
  },
  {
   "cell_type": "code",
   "execution_count": 11,
   "metadata": {},
   "outputs": [],
   "source": [
    "# The data is in bag-of-words format and our model expects a\n",
    "# sequence of word indices. Need to convert the type here.\n",
    "\n",
    "def bow_to_sequence(data_bow, encoder):\n",
    "    \"\"\"\n",
    "    Converts a tensor using the bag-of-words data format to two\n",
    "    tensors: the first tensor is a flat sequence of characters,\n",
    "    the second tensor is a sequence of offsets to split the data on.\n",
    "    \n",
    "    Note that we are assuming the columns of data_bow\n",
    "    match the indices of the encoder.\n",
    "    \"\"\"\n",
    "    word_counts = data_bow.sum(axis=1)\n",
    "\n",
    "    offsets = torch.zeros_like(word_counts, dtype=torch.int64)\n",
    "    for i, count in enumerate(word_counts[:-1]):\n",
    "        offsets[i+1] = offsets[i] + count\n",
    "        \n",
    "    sequence_len = word_counts.sum()\n",
    "    sequence = torch.zeros(sequence_len, dtype=torch.int64)\n",
    "    term_freqs = torch.zeros(sequence_len, dtype=torch.int64)\n",
    "\n",
    "    non_zero_locations = torch.nonzero(data_bow)\n",
    "\n",
    "    # Maps a word idx to the number of documents that index\n",
    "    # shows up.\n",
    "    doc_freq_map = {}\n",
    "\n",
    "    # Note: This iteration assumes that non_zero_locations\n",
    "    # has locations sorted by rows.\n",
    "    iter = 0\n",
    "    for location in non_zero_locations:\n",
    "        row = location[0]\n",
    "        col = location[1]\n",
    "        freq = data_bow[row, col].item()\n",
    "\n",
    "        if col.item() in doc_freq_map:\n",
    "            doc_freq_map[col.item()] += 1\n",
    "        else:\n",
    "            doc_freq_map[col.item()] = 1\n",
    "\n",
    "        for _ in range(freq):\n",
    "            sequence[iter] = col\n",
    "            term_freqs[iter] = freq\n",
    "            iter +=1\n",
    "    \n",
    "    return sequence, offsets, term_freqs, doc_freq_map\n",
    "    "
   ]
  },
  {
   "cell_type": "code",
   "execution_count": 12,
   "metadata": {},
   "outputs": [
    {
     "name": "stdout",
     "output_type": "stream",
     "text": [
      "Ran in 1.01m.\n"
     ]
    }
   ],
   "source": [
    "start_time = time()\n",
    "\n",
    "data_sequence, data_offsets, data_freqs, doc_freq_map = bow_to_sequence(data, word_encoder)\n",
    "\n",
    "end_time = time()\n",
    "\n",
    "print(f'Ran in {(end_time - start_time)/60:.02f}m.')\n"
   ]
  },
  {
   "cell_type": "markdown",
   "metadata": {},
   "source": [
    "## TF-IDF Weighting"
   ]
  },
  {
   "cell_type": "markdown",
   "metadata": {},
   "source": [
    "TF-IDF weighting has been shown to out-perform a simple averaging of word vectors when passing them into a language model. Here, we calculate TF-IDF weighting of our words to generate weighted averages."
   ]
  },
  {
   "cell_type": "code",
   "execution_count": 38,
   "metadata": {},
   "outputs": [],
   "source": [
    "def calculate_tf_idf_weights(sequence, offsets, term_freqs, doc_freq_map):\n",
    "    \"\"\"\n",
    "    Creates weights for sequences based on tf-idf weighting scheme.\n",
    "    \"\"\"\n",
    "    n_docs = len(offsets)\n",
    "\n",
    "    doc_freq_as_sequence = torch.FloatTensor([doc_freq_map[word_idx.item()] for word_idx in sequence])\n",
    "\n",
    "    idf = torch.log(n_docs / doc_freq_as_sequence)\n",
    "\n",
    "    tf_idf = term_freqs * idf\n",
    "    \n",
    "    # Need to normalize the weights so all samples add up to 1.\n",
    "    offsets_with_end = torch.cat([offsets, torch.LongTensor([len(sequence)])])\n",
    "    \n",
    "    for i, offset in enumerate(offsets_with_end[:-1]):\n",
    "        start = offset.item()\n",
    "        end = offsets_with_end[i+1].item()\n",
    "        \n",
    "        weights = tf_idf[start:end]\n",
    "        total_weight = torch.sum(weights)\n",
    "        tf_idf[start:end] = weights / total_weight\n",
    "        \n",
    "    return tf_idf\n"
   ]
  },
  {
   "cell_type": "code",
   "execution_count": 39,
   "metadata": {},
   "outputs": [],
   "source": [
    "def calculate_uniform_weights(sequence, offsets):\n",
    "    \"\"\"\n",
    "    Creates uniform weighting scheme for words.\n",
    "    \"\"\"\n",
    "    offsets_with_end = torch.cat([offsets, torch.LongTensor([len(sequence)])])\n",
    "\n",
    "    weights = torch.zeros_like(sequence, dtype=torch.float32)\n",
    "\n",
    "    for i, offset in enumerate(offsets_with_end[:-1]):\n",
    "        start = offset.item()\n",
    "        end = offsets_with_end[i+1].item()\n",
    "\n",
    "        seq_len = end - start\n",
    "        weights[start:end] = 1. / seq_len\n",
    "        \n",
    "    return weights\n",
    "    "
   ]
  },
  {
   "cell_type": "code",
   "execution_count": 40,
   "metadata": {},
   "outputs": [
    {
     "name": "stdout",
     "output_type": "stream",
     "text": [
      "Ran in 0.02m.\n"
     ]
    }
   ],
   "source": [
    "start_time = time()\n",
    "\n",
    "uniform_weights = calculate_uniform_weights(data_sequence,\n",
    "                                            data_offsets)\n",
    "\n",
    "end_time = time()\n",
    "\n",
    "print(f'Ran in {(end_time - start_time)/60:.02f}m.')\n"
   ]
  },
  {
   "cell_type": "code",
   "execution_count": 41,
   "metadata": {},
   "outputs": [
    {
     "name": "stdout",
     "output_type": "stream",
     "text": [
      "Ran in 0.12m.\n"
     ]
    }
   ],
   "source": [
    "start_time = time()\n",
    "\n",
    "tf_idf_weights = calculate_tf_idf_weights(data_sequence,\n",
    "                                          data_offsets,\n",
    "                                          data_freqs,\n",
    "                                          doc_freq_map)\n",
    "\n",
    "end_time = time()\n",
    "\n",
    "print(f'Ran in {(end_time - start_time)/60:.02f}m.')\n"
   ]
  },
  {
   "cell_type": "markdown",
   "metadata": {},
   "source": [
    "## Dataset and DataLoader"
   ]
  },
  {
   "cell_type": "code",
   "execution_count": 44,
   "metadata": {},
   "outputs": [],
   "source": [
    "class DocDataset(Dataset):\n",
    "    def __init__(self, sequence, offsets, labels, weights):\n",
    "        self.sequence = sequence\n",
    "        self.offsets = offsets\n",
    "        self.labels = labels\n",
    "        self.weights = weights\n",
    "\n",
    "\n",
    "    def __len__(self):\n",
    "        return len(self.offsets)\n",
    "\n",
    "\n",
    "    def __getitem__(self, idx):\n",
    "        offset = self.offsets[idx]\n",
    "\n",
    "        if (idx + 1) < len(self):\n",
    "            end = self.offsets[idx + 1]\n",
    "            data_slice = slice(offset, end)\n",
    "        else:\n",
    "            data_slice = slice(offset)\n",
    "\n",
    "        data = self.sequence[data_slice]\n",
    "        weights = self.weights[data_slice]\n",
    "\n",
    "        return {'data': data,\n",
    "                'label': self.labels[idx],\n",
    "                'offset': offset,\n",
    "                'weights': weights}\n",
    "\n",
    "\n",
    "    def all_samples(self):\n",
    "        return {'data': self.sequence,\n",
    "                'label': self.labels,\n",
    "                'offset': self.offsets,\n",
    "                'weights': self.weights}\n"
   ]
  },
  {
   "cell_type": "code",
   "execution_count": 45,
   "metadata": {},
   "outputs": [],
   "source": [
    "def collate_samples(samples):\n",
    "    \"\"\"\n",
    "    Samples are collated into a format that can be consumed\n",
    "    more easily by the model. A sample has a data, label,\n",
    "    offset key, which are combined into the same format.\n",
    "    \n",
    "    Note: This method assumes that samples are in\n",
    "    sequential order.\n",
    "    \"\"\"\n",
    "    data = torch.cat([s['data'] for s in samples])\n",
    "    \n",
    "    label = torch.LongTensor([s['label'].item() for s in samples])\n",
    "\n",
    "    offset = torch.LongTensor([s['offset'].item() for s in samples])\n",
    "    offset = offset - offset[0]\n",
    "    \n",
    "    weights = torch.cat([s['weights'] for s in samples])\n",
    "\n",
    "    return {'data': data,\n",
    "            'label': label,\n",
    "            'offset': offset,\n",
    "            'weights': weights}\n",
    "    "
   ]
  },
  {
   "cell_type": "code",
   "execution_count": 85,
   "metadata": {},
   "outputs": [],
   "source": [
    "# Split the data into training / validation sets.\n",
    "\n",
    "train_fraction = 0.85\n",
    "split_idx = math.floor(len(data_offsets) * train_fraction)\n",
    "\n",
    "train_offsets = data_offsets[:split_idx]\n",
    "valid_offsets = data_offsets[split_idx:]\n",
    "\n",
    "train_sequence = data_sequence[:valid_offsets[0]]\n",
    "valid_sequence = data_sequence[valid_offsets[0]:]\n",
    "\n",
    "train_labels = labels[:split_idx]\n",
    "valid_labels = labels[split_idx:]\n",
    "\n",
    "train_uniform_weights = uniform_weights[:valid_offsets[0]]\n",
    "valid_uniform_weights = uniform_weights[valid_offsets[0]:]\n",
    "\n",
    "train_tf_idf_weights = tf_idf_weights[:valid_offsets[0]]\n",
    "valid_tf_idf_weights = tf_idf_weights[valid_offsets[0]:]\n",
    "\n",
    "# Need to re-calibrate the offsets of the validation set so\n",
    "# the first offset points to the beginning of the\n",
    "# validation sequence.\n",
    "valid_offsets = valid_offsets - valid_offsets[0]\n"
   ]
  },
  {
   "cell_type": "markdown",
   "metadata": {},
   "source": [
    "## Hyperparameter Configurations"
   ]
  },
  {
   "cell_type": "code",
   "execution_count": 90,
   "metadata": {},
   "outputs": [],
   "source": [
    "# Doing a basic hyper-parameter grid search.\n",
    "\n",
    "hyperparams_list = [\n",
    "    { 'type': 'uniform', 'lr': 0.0001, 'batch_size': 100, 'weights': (train_uniform_weights, valid_uniform_weights) },\n",
    "    { 'type': 'uniform', 'lr': 0.001,  'batch_size': 100, 'weights': (train_uniform_weights, valid_uniform_weights) },\n",
    "    { 'type': 'uniform', 'lr': 0.01,   'batch_size': 100, 'weights': (train_uniform_weights, valid_uniform_weights) },\n",
    "    { 'type': 'uniform', 'lr': 0.1,    'batch_size': 100, 'weights': (train_uniform_weights, valid_uniform_weights) },\n",
    "    { 'type': 'uniform', 'lr': 0.0001, 'batch_size': 10,  'weights': (train_uniform_weights, valid_uniform_weights) },\n",
    "    { 'type': 'uniform', 'lr': 0.001,  'batch_size': 10,  'weights': (train_uniform_weights, valid_uniform_weights) },\n",
    "    { 'type': 'uniform', 'lr': 0.01,   'batch_size': 10,  'weights': (train_uniform_weights, valid_uniform_weights) },\n",
    "    { 'type': 'uniform', 'lr': 0.1,    'batch_size': 10,  'weights': (train_uniform_weights, valid_uniform_weights) },\n",
    "    { 'type': 'tf_idf',  'lr': 0.0001, 'batch_size': 100, 'weights': (train_tf_idf_weights,  valid_tf_idf_weights)  },\n",
    "    { 'type': 'tf_idf',  'lr': 0.001,  'batch_size': 100, 'weights': (train_tf_idf_weights,  valid_tf_idf_weights)  },\n",
    "    { 'type': 'tf_idf',  'lr': 0.01,   'batch_size': 100, 'weights': (train_tf_idf_weights,  valid_tf_idf_weights)  },\n",
    "    { 'type': 'tf_idf',  'lr': 0.1,    'batch_size': 100, 'weights': (train_tf_idf_weights,  valid_tf_idf_weights)  },\n",
    "    { 'type': 'tf_idf',  'lr': 0.0001, 'batch_size': 10,  'weights': (train_tf_idf_weights,  valid_tf_idf_weights)  },\n",
    "    { 'type': 'tf_idf',  'lr': 0.001,  'batch_size': 10,  'weights': (train_tf_idf_weights,  valid_tf_idf_weights)  },\n",
    "    { 'type': 'tf_idf',  'lr': 0.01,   'batch_size': 10,  'weights': (train_tf_idf_weights,  valid_tf_idf_weights)  },\n",
    "    { 'type': 'tf_idf',  'lr': 0.1,    'batch_size': 10,  'weights': (train_tf_idf_weights,  valid_tf_idf_weights)  },    \n",
    "]\n"
   ]
  },
  {
   "cell_type": "markdown",
   "metadata": {},
   "source": [
    "## Create the Model"
   ]
  },
  {
   "cell_type": "code",
   "execution_count": 87,
   "metadata": {},
   "outputs": [],
   "source": [
    "class Model(torch.nn.Module):\n",
    "    def __init__(self, embeddings, n_classes):\n",
    "        super(Model, self).__init__()\n",
    "\n",
    "        self.embedding_bag = torch.nn.EmbeddingBag.from_pretrained(embeddings, mode='sum')\n",
    "        self.linear = torch.nn.Linear(self.embedding_bag.embedding_dim, n_classes)\n",
    "        \n",
    "    def forward(self, input, offset, weights):\n",
    "        if weights is not None:\n",
    "            x = self.embedding_bag(input, offset, per_sample_weights=weights)\n",
    "        else:\n",
    "            x = self.embedding_bag(input, offset, per_sample_weights=weights)\n",
    "\n",
    "        output = self.linear(x)\n",
    "        return output\n",
    "    \n",
    "    def predict(self, input, offset, weights):\n",
    "        with torch.no_grad():\n",
    "            outputs = model(input, offset, weights)\n",
    "            predictions = torch.argmax(outputs, axis=1)\n",
    "\n",
    "        return predictions\n"
   ]
  },
  {
   "cell_type": "markdown",
   "metadata": {},
   "source": [
    "## Training the Model"
   ]
  },
  {
   "cell_type": "code",
   "execution_count": 88,
   "metadata": {},
   "outputs": [],
   "source": [
    "def train(model, criterion, optimizer, dataset, data_loader, epochs, log=True):\n",
    "    train_losses = []\n",
    "\n",
    "    for epoch in range(epochs):\n",
    "        losses = []\n",
    "\n",
    "        for batch in data_loader:\n",
    "            data = batch['data']\n",
    "            label = batch['label']\n",
    "            offset = batch['offset']\n",
    "            weights = batch['weights']\n",
    "\n",
    "            optimizer.zero_grad()\n",
    "            output = model(data, offset, weights)\n",
    "            loss = criterion(output, label)\n",
    "            loss.backward()\n",
    "            optimizer.step()\n",
    "\n",
    "            losses.append(loss)\n",
    "\n",
    "        train_loss = torch.mean(torch.stack(losses))\n",
    "        train_losses.append(train_loss)\n",
    "\n",
    "        if log and (epoch + 1) % 10 == 0:\n",
    "            samples = dataset.all_samples()\n",
    "            predictions = model.predict(samples['data'], samples['offset'], samples['weights'])\n",
    "            labels = samples['label']\n",
    "\n",
    "            total = len(labels)\n",
    "            correct = torch.sum(labels == predictions)\n",
    "\n",
    "            print(f'Epoch {epoch + 1}')\n",
    "            print(f'Accuracy: {float(correct)/total*100:.02f}%.')\n",
    "            print(f'Training Loss: {train_loss.item()}')\n",
    "            print()\n",
    "        \n",
    "    return train_losses\n",
    "    "
   ]
  },
  {
   "cell_type": "code",
   "execution_count": 89,
   "metadata": {},
   "outputs": [
    {
     "name": "stdout",
     "output_type": "stream",
     "text": [
      "Starting training Model 1 / 16.\n",
      "Epoch 10\n",
      "Accuracy: 23.47%.\n",
      "Training Loss: 3.6570353507995605\n",
      "\n",
      "Epoch 20\n",
      "Accuracy: 27.67%.\n",
      "Training Loss: 2.8614845275878906\n",
      "\n",
      "torch.Size([9701, 41]) torch.Size([9701])\n",
      "Model completed in 0.56m.\n",
      "\n",
      "Starting training Model 2 / 16.\n",
      "Epoch 10\n",
      "Accuracy: 37.99%.\n",
      "Training Loss: 2.320824146270752\n",
      "\n",
      "Epoch 20\n",
      "Accuracy: 39.97%.\n",
      "Training Loss: 2.2097673416137695\n",
      "\n",
      "torch.Size([9701, 41]) torch.Size([9701])\n",
      "Model completed in 0.55m.\n",
      "\n",
      "Starting training Model 3 / 16.\n",
      "Epoch 10\n",
      "Accuracy: 40.73%.\n",
      "Training Loss: 2.1458818912506104\n",
      "\n",
      "Epoch 20\n",
      "Accuracy: 40.51%.\n",
      "Training Loss: 2.3632800579071045\n",
      "\n",
      "torch.Size([9701, 41]) torch.Size([9701])\n",
      "Model completed in 0.55m.\n",
      "\n",
      "Starting training Model 4 / 16.\n",
      "Epoch 10\n",
      "Accuracy: 36.85%.\n",
      "Training Loss: 2.3777925968170166\n",
      "\n",
      "Epoch 20\n",
      "Accuracy: 38.11%.\n",
      "Training Loss: 2.3034119606018066\n",
      "\n",
      "torch.Size([9701, 41]) torch.Size([9701])\n",
      "Model completed in 0.55m.\n",
      "\n",
      "Starting training Model 5 / 16.\n",
      "Epoch 10\n",
      "Accuracy: 31.74%.\n",
      "Training Loss: 3.0795788764953613\n",
      "\n",
      "Epoch 20\n",
      "Accuracy: 37.06%.\n",
      "Training Loss: 2.380765199661255\n",
      "\n",
      "torch.Size([9701, 41]) torch.Size([9701])\n",
      "Model completed in 1.33m.\n",
      "\n",
      "Starting training Model 6 / 16.\n",
      "Epoch 10\n",
      "Accuracy: 40.95%.\n",
      "Training Loss: 2.1649789810180664\n",
      "\n",
      "Epoch 20\n",
      "Accuracy: 41.52%.\n",
      "Training Loss: 2.1289312839508057\n",
      "\n",
      "torch.Size([9701, 41]) torch.Size([9701])\n",
      "Model completed in 1.37m.\n",
      "\n",
      "Starting training Model 7 / 16.\n",
      "Epoch 10\n",
      "Accuracy: 40.36%.\n",
      "Training Loss: 2.1819448471069336\n",
      "\n",
      "Epoch 20\n",
      "Accuracy: 40.23%.\n",
      "Training Loss: 2.2990007400512695\n",
      "\n",
      "torch.Size([9701, 41]) torch.Size([9701])\n",
      "Model completed in 1.34m.\n",
      "\n",
      "Starting training Model 8 / 16.\n",
      "Epoch 10\n",
      "Accuracy: 34.80%.\n",
      "Training Loss: 2.923422336578369\n",
      "\n",
      "Epoch 20\n",
      "Accuracy: 34.52%.\n",
      "Training Loss: 2.9435837268829346\n",
      "\n",
      "torch.Size([9701, 41]) torch.Size([9701])\n",
      "Model completed in 1.30m.\n",
      "\n",
      "Starting training Model 9 / 16.\n",
      "Epoch 10\n",
      "Accuracy: 25.17%.\n",
      "Training Loss: 3.068325996398926\n",
      "\n",
      "Epoch 20\n",
      "Accuracy: 29.00%.\n",
      "Training Loss: 2.734098434448242\n",
      "\n",
      "torch.Size([9701, 41]) torch.Size([9701])\n",
      "Model completed in 0.58m.\n",
      "\n",
      "Starting training Model 10 / 16.\n",
      "Epoch 10\n",
      "Accuracy: 38.81%.\n",
      "Training Loss: 2.2492361068725586\n",
      "\n",
      "Epoch 20\n",
      "Accuracy: 39.84%.\n",
      "Training Loss: 2.1926729679107666\n",
      "\n",
      "torch.Size([9701, 41]) torch.Size([9701])\n",
      "Model completed in 0.59m.\n",
      "\n",
      "Starting training Model 11 / 16.\n",
      "Epoch 10\n",
      "Accuracy: 39.82%.\n",
      "Training Loss: 2.1838254928588867\n",
      "\n",
      "Epoch 20\n",
      "Accuracy: 39.75%.\n",
      "Training Loss: 2.2069156169891357\n",
      "\n",
      "torch.Size([9701, 41]) torch.Size([9701])\n",
      "Model completed in 0.59m.\n",
      "\n",
      "Starting training Model 12 / 16.\n",
      "Epoch 10\n",
      "Accuracy: 35.36%.\n",
      "Training Loss: 2.4724185466766357\n",
      "\n",
      "Epoch 20\n",
      "Accuracy: 34.13%.\n",
      "Training Loss: 3.805619239807129\n",
      "\n",
      "torch.Size([9701, 41]) torch.Size([9701])\n",
      "Model completed in 0.58m.\n",
      "\n",
      "Starting training Model 13 / 16.\n",
      "Epoch 10\n",
      "Accuracy: 34.95%.\n",
      "Training Loss: 2.6465022563934326\n",
      "\n",
      "Epoch 20\n",
      "Accuracy: 38.16%.\n",
      "Training Loss: 2.3540377616882324\n",
      "\n",
      "torch.Size([9701, 41]) torch.Size([9701])\n",
      "Model completed in 1.33m.\n",
      "\n",
      "Starting training Model 14 / 16.\n",
      "Epoch 10\n",
      "Accuracy: 40.15%.\n",
      "Training Loss: 2.1722986698150635\n",
      "\n",
      "Epoch 20\n",
      "Accuracy: 40.46%.\n",
      "Training Loss: 2.161583185195923\n",
      "\n",
      "torch.Size([9701, 41]) torch.Size([9701])\n",
      "Model completed in 1.37m.\n",
      "\n",
      "Starting training Model 15 / 16.\n",
      "Epoch 10\n",
      "Accuracy: 38.29%.\n",
      "Training Loss: 2.3599953651428223\n",
      "\n",
      "Epoch 20\n",
      "Accuracy: 38.35%.\n",
      "Training Loss: 2.304309129714966\n",
      "\n",
      "torch.Size([9701, 41]) torch.Size([9701])\n",
      "Model completed in 1.31m.\n",
      "\n",
      "Starting training Model 16 / 16.\n",
      "Epoch 10\n",
      "Accuracy: 32.22%.\n",
      "Training Loss: 3.3830161094665527\n",
      "\n",
      "Epoch 20\n",
      "Accuracy: 27.24%.\n",
      "Training Loss: 5.9204607009887695\n",
      "\n",
      "torch.Size([9701, 41]) torch.Size([9701])\n",
      "Model completed in 1.24m.\n",
      "\n"
     ]
    }
   ],
   "source": [
    "# Non-Weighted Model Training.\n",
    "\n",
    "epochs = 20\n",
    "\n",
    "models = []\n",
    "train_losses_list = []\n",
    "valid_losses = []\n",
    "\n",
    "for i, hyperparams in enumerate(hyperparams_list):\n",
    "    print(f'Starting training Model {i+1} / {len(hyperparams_list)}.')\n",
    "\n",
    "    start_time = time()\n",
    "\n",
    "    batch_size = hyperparams['batch_size']\n",
    "    lr = hyperparams['lr']\n",
    "    train_weights, valid_weights = hyperparams['weights']\n",
    "\n",
    "    # 1. Setup Data Loader\n",
    "\n",
    "    dataset = DocDataset(train_sequence, train_offsets, train_labels, train_weights)\n",
    "\n",
    "    data_loader = DataLoader(dataset=dataset,\n",
    "                             batch_size=batch_size,\n",
    "                             shuffle=False,\n",
    "                             collate_fn=collate_samples)\n",
    "\n",
    "    # 2. Create the Model\n",
    "\n",
    "    model = Model(embeddings=embeddings, n_classes=len(label_types))\n",
    "\n",
    "    # 3. Setup Criterion and Optimizer\n",
    "\n",
    "    criterion = torch.nn.CrossEntropyLoss()\n",
    "    \n",
    "    optimizer = torch.optim.Adam(model.parameters(), lr=lr)\n",
    "\n",
    "    # 4. Train the Model\n",
    "\n",
    "    train_losses = train(model,\n",
    "                         criterion,\n",
    "                         optimizer,\n",
    "                         dataset,\n",
    "                         data_loader,\n",
    "                         epochs)\n",
    "    \n",
    "    # 5. Calculate Validation Loss\n",
    "    \n",
    "    with torch.no_grad():\n",
    "        valid_dataset = DocDataset(valid_sequence, valid_offsets, valid_labels, valid_weights)\n",
    "        valid_samples = valid_dataset.all_samples()\n",
    "\n",
    "        outputs = model(valid_samples['data'],\n",
    "                        valid_samples['offset'],\n",
    "                        valid_samples['weights'])\n",
    "\n",
    "        valid_loss = criterion(outputs, valid_labels)\n",
    "        valid_losses.append(valid_loss)\n",
    "\n",
    "    end_time = time()\n",
    "    \n",
    "    models.append(model)\n",
    "    train_losses_list.append(train_losses)\n",
    "\n",
    "    print(f'Model completed in {(end_time - start_time)/60:.02f}m.')\n",
    "    print()\n"
   ]
  },
  {
   "cell_type": "markdown",
   "metadata": {},
   "source": [
    "## Check Results"
   ]
  },
  {
   "cell_type": "code",
   "execution_count": 98,
   "metadata": {},
   "outputs": [],
   "source": [
    "uniform_mask = [hp['type'] == 'uniform' for hp in hyperparams_list]\n",
    "\n",
    "uniform_models = [m for i, m in enumerate(models) if uniform_mask[i]]\n",
    "uniform_train_losses_list = [losses for i, losses in enumerate(train_losses_list) if uniform_mask[i]]\n",
    "uniform_valid_losses = [loss for i, loss in enumerate(valid_losses) if uniform_mask[i]]\n",
    "\n",
    "tf_idf_models = [m for i, m in enumerate(models) if not uniform_mask[i]]\n",
    "tf_idf_train_losses_list = [losses for i, losses in enumerate(train_losses_list) if not uniform_mask[i]]\n",
    "tf_idf_valid_losses = [loss for i, loss in enumerate(valid_losses) if not uniform_mask[i]]\n"
   ]
  },
  {
   "cell_type": "code",
   "execution_count": 99,
   "metadata": {},
   "outputs": [
    {
     "data": {
      "image/png": "[encoded data removed]",
      "text/plain": [
       "<Figure size 432x288 with 1 Axes>"
      ]
     },
     "metadata": {
      "needs_background": "light"
     },
     "output_type": "display_data"
    }
   ],
   "source": [
    "# Training loss of uniform models.\n",
    "\n",
    "for i, model in enumerate(uniform_models):\n",
    "    train_losses = uniform_train_losses_list[i]\n",
    "    plt.plot(train_losses)\n",
    "\n",
    "plt.legend([f'Model {i+1}' for i in range(len(uniform_models))])\n",
    "plt.show()\n"
   ]
  },
  {
   "cell_type": "code",
   "execution_count": 100,
   "metadata": {},
   "outputs": [
    {
     "data": {
      "image/png": "[encoded data removed]",
      "text/plain": [
       "<Figure size 432x288 with 1 Axes>"
      ]
     },
     "metadata": {
      "needs_background": "light"
     },
     "output_type": "display_data"
    }
   ],
   "source": [
    "# Training loss of tf-idf models.\n",
    "\n",
    "for i, model in enumerate(tf_idf_models):\n",
    "    train_losses = tf_idf_train_losses_list[i]\n",
    "    plt.plot(train_losses)\n",
    "\n",
    "plt.legend([f'Model {i+1}' for i in range(len(tf_idf_models))])\n",
    "plt.show()\n"
   ]
  },
  {
   "cell_type": "code",
   "execution_count": 122,
   "metadata": {},
   "outputs": [
    {
     "data": {
      "image/png": "[encoded data removed]",
      "text/plain": [
       "<Figure size 432x288 with 1 Axes>"
      ]
     },
     "metadata": {
      "needs_background": "light"
     },
     "output_type": "display_data"
    }
   ],
   "source": [
    "# TODO: GRAPH TRAINING LOSSES AND VALIDATION LOSSES.\n",
    "  \n",
    "# TODO: CREATE CONFUSION MATRIX.\n"
   ]
  },
  {
   "cell_type": "code",
   "execution_count": 104,
   "metadata": {},
   "outputs": [
    {
     "name": "stdout",
     "output_type": "stream",
     "text": [
      "Best Uniform Model: 6\n",
      "Best TF-IDF Model:  6\n"
     ]
    }
   ],
   "source": [
    "# Grab the best models.\n",
    "\n",
    "best_uniform_model_idx = uniform_valid_losses.index(min(uniform_valid_losses))\n",
    "best_uniform_model = uniform_models[best_uniform_model_idx]\n",
    "\n",
    "best_tf_idf_model_idx = tf_idf_valid_losses.index(min(tf_idf_valid_losses))\n",
    "best_tf_idf_model = tf_idf_models[best_tf_idf_model_idx]\n",
    "\n",
    "print(f'Best Uniform Model: {best_uniform_model_idx+1}')\n",
    "print(f'Best TF-IDF Model:  {best_tf_idf_model_idx+1}')\n"
   ]
  },
  {
   "cell_type": "markdown",
   "metadata": {},
   "source": [
    "## Persist Models"
   ]
  },
  {
   "cell_type": "code",
   "execution_count": null,
   "metadata": {},
   "outputs": [],
   "source": [
    "torch.save(best_uniform_model.state_dict(), './models/uniform_glove_model.torch')\n",
    "torch.save(best_tf_idf_model.state_dict(), './models/tf_idf_model.torch')\n"
   ]
  }
 ],
 "metadata": {
  "kernelspec": {
   "display_name": "Python 3",
   "language": "python",
   "name": "python3"
  },
  "language_info": {
   "codemirror_mode": {
    "name": "ipython",
    "version": 3
   },
   "file_extension": ".py",
   "mimetype": "text/x-python",
   "name": "python",
   "nbconvert_exporter": "python",
   "pygments_lexer": "ipython3",
   "version": "3.7.4"
  }
 },
 "nbformat": 4,
 "nbformat_minor": 4
}
