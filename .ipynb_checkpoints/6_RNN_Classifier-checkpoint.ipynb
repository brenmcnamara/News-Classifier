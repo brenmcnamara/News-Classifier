{
 "cells": [
  {
   "cell_type": "markdown",
   "metadata": {},
   "source": [
    "# RNN Classifier\n",
    "\n",
    "**Note: There are some random processes within this notebook, so different runs of the notebook may result in different outcomes.**\n",
    "\n",
    "**Note: This notebook assumes the data being loaded has already been randomly shuffled.**"
   ]
  },
  {
   "cell_type": "code",
   "execution_count": 11,
   "metadata": {},
   "outputs": [],
   "source": [
    "import data_utils\n",
    "import math\n",
    "import matplotlib.pyplot as plt\n",
    "import numpy as np\n",
    "import pandas as pd\n",
    "import torch\n",
    "import torch.nn as nn\n",
    "\n",
    "from data_utils import BOWEncoding, WordEmbeddingEncoding, WordTokenDataset\n",
    "from time import time\n",
    "from torch.utils.data import DataLoader"
   ]
  },
  {
   "cell_type": "markdown",
   "metadata": {},
   "source": [
    "## Load the Dataset"
   ]
  },
  {
   "cell_type": "code",
   "execution_count": 2,
   "metadata": {},
   "outputs": [],
   "source": [
    "embeddings = data_utils.load_embeddings('./data/glove.6B/glove.6B.100d.txt',\n",
    "                                        embedding_dim=100)"
   ]
  },
  {
   "cell_type": "code",
   "execution_count": 3,
   "metadata": {},
   "outputs": [],
   "source": [
    "data = pd.read_json('./data/train_data.json', orient='records')\n"
   ]
  },
  {
   "cell_type": "code",
   "execution_count": 4,
   "metadata": {},
   "outputs": [],
   "source": [
    "train_test_split = 0.95\n",
    "split_idx = math.floor(len(data) * train_test_split)\n",
    "\n",
    "train_data = data.iloc[0:split_idx]\n",
    "valid_data = data.iloc[split_idx:]\n"
   ]
  },
  {
   "cell_type": "code",
   "execution_count": 5,
   "metadata": {},
   "outputs": [],
   "source": [
    "emb_encoding = WordEmbeddingEncoding(data, embeddings)\n",
    "emb_encoding.prepare()\n"
   ]
  },
  {
   "cell_type": "code",
   "execution_count": 8,
   "metadata": {},
   "outputs": [],
   "source": [
    "bow_encoding = BOWEncoding(data, min_word_freq=5)\n",
    "bow_encoding.prepare()\n"
   ]
  },
  {
   "cell_type": "code",
   "execution_count": 9,
   "metadata": {},
   "outputs": [],
   "source": [
    "emb_train_dataset = WordTokenDataset(train_data, emb_encoding)\n",
    "emb_train_dataset.prepare()\n",
    "\n",
    "bow_train_dataset = WordTokenDataset(train_data, bow_encoding)\n",
    "bow_train_dataset.prepare()\n"
   ]
  },
  {
   "cell_type": "code",
   "execution_count": 10,
   "metadata": {},
   "outputs": [],
   "source": [
    "emb_valid_dataset = WordTokenDataset(valid_data, emb_encoding)\n",
    "emb_valid_dataset.prepare()\n",
    "\n",
    "bow_valid_dataset = WordTokenDataset(valid_data, bow_encoding)\n",
    "bow_valid_dataset.prepare()\n"
   ]
  },
  {
   "cell_type": "markdown",
   "metadata": {},
   "source": [
    "## Defining the Model"
   ]
  },
  {
   "cell_type": "code",
   "execution_count": null,
   "metadata": {},
   "outputs": [],
   "source": [
    "class Model(nn.Module):\n",
    "    def __init__(self, encoding, hidden_size):\n",
    "        super(Model, self).__init__()\n",
    "        self.encoding = encoding\n",
    "        \n",
    "        self.input_size = encoding.n_inputs()\n",
    "        self.output_size = encoding.n_classes()\n",
    "        self.hidden_size = hidden_size\n",
    "        \n",
    "        if self.encoding.encoding_type == 'bow':\n",
    "            self.encoding_layer = nn.Identity()\n",
    "        else:\n",
    "            self.encoding_layer = nn.EmbeddingBag.from_pretrained(encoding.embeddings, mode='sum')\n",
    "\n",
    "        self.i2o = nn.Linear(self.input_size + hidden_size, self.output_size)\n",
    "        self.i2h = nn.Linear(self.input_size + hidden_size, hidden_size)\n",
    "        \n",
    "    def forward(self, samples):\n",
    "        pass\n"
   ]
  }
 ],
 "metadata": {
  "kernelspec": {
   "display_name": "Python 3",
   "language": "python",
   "name": "python3"
  },
  "language_info": {
   "codemirror_mode": {
    "name": "ipython",
    "version": 3
   },
   "file_extension": ".py",
   "mimetype": "text/x-python",
   "name": "python",
   "nbconvert_exporter": "python",
   "pygments_lexer": "ipython3",
   "version": "3.7.4"
  }
 },
 "nbformat": 4,
 "nbformat_minor": 4
}
