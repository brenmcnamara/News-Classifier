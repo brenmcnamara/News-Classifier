{
 "cells": [
  {
   "cell_type": "markdown",
   "metadata": {},
   "source": [
    "# Data Cleanup\n",
    "\n",
    "The purpose of this data is to:\n",
    "\n",
    "1. Convert the raw data files into valid json.\n",
    "2. Create separate training and test json test sets."
   ]
  },
  {
   "cell_type": "code",
   "execution_count": 1,
   "metadata": {},
   "outputs": [],
   "source": [
    "import numpy as np\n",
    "import pandas as pd\n"
   ]
  },
  {
   "cell_type": "code",
   "execution_count": 19,
   "metadata": {},
   "outputs": [],
   "source": [
    "# The dataset provided is malformed JSON. Need to fix up the JSON formatting\n",
    "# so that it can be ingested by pandas.\n",
    "\n",
    "TRAIN_FRACTION = 0.8\n",
    "\n",
    "with open('./data/News_Category_Dataset_v2.json') as file:\n",
    "    lines = file.readlines()\n",
    "    lines = [l.strip() for l in lines]\n",
    "    \n",
    "    # Move some of those lines aside for a test set. Want to make sure that\n",
    "    # all algorithms have a consistent test set for benchmarking purposes.\n",
    "    train_mask = np.random.rand(len(lines)) < TRAIN_FRACTION\n",
    "    \n",
    "    train_lines = []\n",
    "    test_lines = []\n",
    "    \n",
    "    for i, line in enumerate(lines):\n",
    "        if train_mask[i]:\n",
    "            train_lines.append(line)\n",
    "        else:\n",
    "            test_lines.append(line)\n",
    "\n",
    "    joiner = \",\\n\"\n",
    "\n",
    "    train_json = f'[{joiner.join(train_lines)}]'\n",
    "    test_json = f'[{joiner.join(test_lines)}]'\n"
   ]
  },
  {
   "cell_type": "code",
   "execution_count": 20,
   "metadata": {},
   "outputs": [],
   "source": [
    "# Saving json after format has been fixed and\n",
    "# has been split into train / test data.\n",
    "\n",
    "with open('./data/train_data.json', 'a') as file:\n",
    "    file.write(train_json)\n",
    "\n",
    "\n",
    "with open('./data/test_data.json', 'a') as file:\n",
    "    file.write(test_json)\n"
   ]
  },
  {
   "cell_type": "code",
   "execution_count": null,
   "metadata": {},
   "outputs": [],
   "source": []
  }
 ],
 "metadata": {
  "kernelspec": {
   "display_name": "Python 3",
   "language": "python",
   "name": "python3"
  },
  "language_info": {
   "codemirror_mode": {
    "name": "ipython",
    "version": 3
   },
   "file_extension": ".py",
   "mimetype": "text/x-python",
   "name": "python",
   "nbconvert_exporter": "python",
   "pygments_lexer": "ipython3",
   "version": "3.7.4"
  }
 },
 "nbformat": 4,
 "nbformat_minor": 4
}
