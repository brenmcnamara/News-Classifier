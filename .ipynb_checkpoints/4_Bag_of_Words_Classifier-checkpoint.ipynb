{
 "cells": [
  {
   "cell_type": "markdown",
   "metadata": {},
   "source": [
    "# Bag of Words Classifier\n",
    "\n",
    "Here is a bag-of-words classifier for news topics. This model is a simple logistic regression model using bag of words. Before considering whether we need to use a more complex ML algorithm, let's try using a simple classifier for the news data."
   ]
  },
  {
   "cell_type": "code",
   "execution_count": 1,
   "metadata": {},
   "outputs": [],
   "source": [
    "import math\n",
    "import matplotlib.pyplot as plt\n",
    "import numpy as np\n",
    "import pandas as pd\n",
    "import string\n",
    "import torch\n",
    "import torch.nn as nn\n",
    "import time\n",
    "\n",
    "from nltk.tokenize.regexp import WordPunctTokenizer\n"
   ]
  },
  {
   "cell_type": "markdown",
   "metadata": {},
   "source": [
    "## Load the Data"
   ]
  },
  {
   "cell_type": "code",
   "execution_count": 2,
   "metadata": {},
   "outputs": [
    {
     "name": "stdout",
     "output_type": "stream",
     "text": [
      "Done!\n",
      "Ran in 0.02m\n"
     ]
    }
   ],
   "source": [
    "start_time = time.time()\n",
    "\n",
    "data = pd.read_json('./data/train_data.json', orient='records')\n",
    "\n",
    "end_time = time.time()\n",
    "\n",
    "print('Done!')\n",
    "print(f'Ran in {(end_time - start_time)/60:.02f}m')\n"
   ]
  },
  {
   "cell_type": "code",
   "execution_count": 3,
   "metadata": {},
   "outputs": [],
   "source": [
    "train_test_split = 0.95\n",
    "split_idx = math.floor(len(data) * train_test_split)\n",
    "\n",
    "train_data = data.iloc[0:split_idx]\n",
    "valid_data = data.iloc[split_idx:]"
   ]
  },
  {
   "cell_type": "markdown",
   "metadata": {},
   "source": [
    "## Training and Cross-Validating the Model"
   ]
  },
  {
   "cell_type": "code",
   "execution_count": 24,
   "metadata": {},
   "outputs": [
    {
     "name": "stdout",
     "output_type": "stream",
     "text": [
      "Training and validating model 1 / 3 ...\n",
      "Training and validating model 2 / 3 ...\n",
      "Training and validating model 3 / 3 ...\n",
      "Best model is #1\n",
      "Total training time: 420.26m\n"
     ]
    }
   ],
   "source": [
    "models = [\n",
    "    LogisticRegression(multi_class='multinomial', solver='lbfgs', C=1e1, max_iter=4000, n_jobs=-1),\n",
    "    LogisticRegression(multi_class='multinomial', solver='lbfgs', C=1e2, max_iter=4000, n_jobs=-1),\n",
    "    LogisticRegression(multi_class='multinomial', solver='lbfgs', C=1e3, max_iter=4000, n_jobs=-1),\n",
    "]\n",
    "\n",
    "start_time = time.time()\n",
    "\n",
    "valid_scores = []\n",
    "\n",
    "for i, model in enumerate(models):\n",
    "    print(f'Training and validating model {i+1} / {len(models)} ...')\n",
    "\n",
    "    model.fit(train_data, train_labels)\n",
    "    valid_score = model.score(valid_data, valid_labels)\n",
    "    valid_scores.append(valid_score)\n",
    "\n",
    "best_model_index = valid_scores.index(max(valid_scores))\n",
    "best_model = models[best_model_index]\n",
    "\n",
    "end_time = time.time()\n",
    "\n",
    "print(f'Best model is #{best_model_index + 1}')\n",
    "print(f'Total training time: {(end_time - start_time)/60:.02f}m')\n"
   ]
  },
  {
   "cell_type": "markdown",
   "metadata": {},
   "source": [
    "## Viewing the Results"
   ]
  },
  {
   "cell_type": "code",
   "execution_count": 25,
   "metadata": {},
   "outputs": [],
   "source": [
    "valid_preds = best_model.predict(valid_data)\n",
    "train_preds = best_model.predict(train_data)\n"
   ]
  },
  {
   "cell_type": "code",
   "execution_count": 26,
   "metadata": {},
   "outputs": [
    {
     "name": "stdout",
     "output_type": "stream",
     "text": [
      "Validation accuracy of 47.66%\n",
      "Training accuracy of 99.98%\n"
     ]
    }
   ],
   "source": [
    "correct = np.sum(valid_preds == valid_labels)\n",
    "total = len(valid_labels)\n",
    "\n",
    "print(f'Validation accuracy of {(correct / total)*100:.02f}%')\n",
    "\n",
    "correct = np.sum(train_preds == train_labels)\n",
    "total = len(train_labels)\n",
    "\n",
    "print(f'Training accuracy of {(correct / total)*100:.02f}%')"
   ]
  },
  {
   "cell_type": "code",
   "execution_count": 30,
   "metadata": {},
   "outputs": [],
   "source": [
    "def create_confusion_matrix(labels, predictions):\n",
    "        # Displaying a confusion matrix of the validation results for our model.\n",
    "\n",
    "    categories = labels.unique()\n",
    "    category_encoder = { c:i for i,c in enumerate(categories) }\n",
    "\n",
    "    confusion_matrix = np.random.rand(len(categories), len(categories))\n",
    "\n",
    "    for i, category in enumerate(categories):\n",
    "        row = np.zeros(len(categories))\n",
    "\n",
    "        cat_mask = (labels == category).tolist()\n",
    "        cat_preds = predictions[cat_mask]\n",
    "        \n",
    "        for category in categories:\n",
    "            pred_count = np.sum(cat_preds == category)\n",
    "            row[category_encoder[category]] = pred_count\n",
    "            \n",
    "        confusion_matrix[i, :] = row / len(cat_preds)\n",
    "\n",
    "    return confusion_matrix, category_encoder\n"
   ]
  },
  {
   "cell_type": "code",
   "execution_count": 31,
   "metadata": {},
   "outputs": [],
   "source": [
    "def show_confusion_matrix(confusion_matrix):\n",
    "    fig = plt.figure()\n",
    "    ax = fig.add_subplot(111)\n",
    "\n",
    "    cax = ax.matshow(confusion_matrix)\n",
    "\n",
    "    fig.colorbar(cax)\n",
    "\n",
    "    plt.xlabel('Predicted Labels')\n",
    "    plt.ylabel('True Labels')\n"
   ]
  },
  {
   "cell_type": "code",
   "execution_count": 33,
   "metadata": {},
   "outputs": [
    {
     "data": {
      "image/png": "[encoded data removed]",
      "text/plain": [
       "<Figure size 432x288 with 2 Axes>"
      ]
     },
     "metadata": {
      "needs_background": "light"
     },
     "output_type": "display_data"
    }
   ],
   "source": [
    "confusion_matrix, category_encoder = create_confusion_matrix(valid_labels, valid_preds)\n",
    "show_confusion_matrix(confusion_matrix)"
   ]
  },
  {
   "cell_type": "code",
   "execution_count": 49,
   "metadata": {},
   "outputs": [],
   "source": [
    "def top_k_labeling_errors(confusion_matrix, category_decoder, k):\n",
    "    \n",
    "    # ZSubtract 1 from diagonal so that the values along\n",
    "    # diagonal do not show up as top values.\n",
    "    diag = np.eye(confusion_matrix.shape[0])\n",
    "    mat = confusion_matrix - diag\n",
    "\n",
    "    label_errors = []\n",
    "\n",
    "    for i in range(k):\n",
    "        argmax = np.argmax(mat)\n",
    "    \n",
    "        # Getting row and col components. Note we are assuming\n",
    "        # matrix has 2 dimensions.\n",
    "        row = math.floor(argmax / mat.shape[0])\n",
    "        col = argmax % mat.shape[1]\n",
    "\n",
    "        label_error = (category_decoder[row], category_decoder[col])\n",
    "        label_errors.append(label_error)\n",
    "\n",
    "        # Zero out the element so we find a different argmax\n",
    "        # on next pass.\n",
    "        mat[row, col] = 0\n",
    "    \n",
    "    return label_errors\n"
   ]
  },
  {
   "cell_type": "code",
   "execution_count": 54,
   "metadata": {},
   "outputs": [
    {
     "name": "stdout",
     "output_type": "stream",
     "text": [
      "1. \"TASTE\" confused for \"FOOD & DRINK\"\n",
      "2. \"PARENTS\" confused for \"PARENTING\"\n",
      "3. \"WORLD NEWS\" confused for \"THE WORLDPOST\"\n",
      "4. \"HEALTHY LIVING\" confused for \"WELLNESS\"\n",
      "5. \"MEDIA\" confused for \"POLITICS\"\n"
     ]
    }
   ],
   "source": [
    "category_decoder = {i:c for c,i in category_encoder.items()}\n",
    "\n",
    "labeling_errors = top_k_labeling_errors(confusion_matrix, category_decoder, k=5)\n",
    "\n",
    "# Looking at the most frequent labeling errors.\n",
    "for i, error in enumerate(labeling_errors):\n",
    "    print(f'{i+1}. \"{error[0]}\" confused for \"{error[1]}\"')\n"
   ]
  },
  {
   "cell_type": "markdown",
   "metadata": {},
   "source": [
    "## Persisting the Model"
   ]
  },
  {
   "cell_type": "code",
   "execution_count": 29,
   "metadata": {},
   "outputs": [
    {
     "data": {
      "text/plain": [
       "['models/bag_of_words_model.joblib']"
      ]
     },
     "execution_count": 29,
     "metadata": {},
     "output_type": "execute_result"
    }
   ],
   "source": [
    "dump(best_model, 'models/bag_of_words_model.joblib')"
   ]
  }
 ],
 "metadata": {
  "kernelspec": {
   "display_name": "Python 3",
   "language": "python",
   "name": "python3"
  },
  "language_info": {
   "codemirror_mode": {
    "name": "ipython",
    "version": 3
   },
   "file_extension": ".py",
   "mimetype": "text/x-python",
   "name": "python",
   "nbconvert_exporter": "python",
   "pygments_lexer": "ipython3",
   "version": "3.7.4"
  }
 },
 "nbformat": 4,
 "nbformat_minor": 4
}
