{
 "cells": [
  {
   "cell_type": "markdown",
   "metadata": {},
   "source": [
    "# Bag of Words Classifier\n",
    "\n",
    "Here is a bag-of-words classifier for news topics. This model is a simple logistic regression model using bag of words. Before considering whether we need to use a more complex ML algorithm, let's try using a simple classifier for the news data."
   ]
  },
  {
   "cell_type": "code",
   "execution_count": 18,
   "metadata": {},
   "outputs": [],
   "source": [
    "import data_utils\n",
    "import math\n",
    "import matplotlib.pyplot as plt\n",
    "import numpy as np\n",
    "import pandas as pd\n",
    "import string\n",
    "import torch\n",
    "import torch.nn as nn\n",
    "import torch.nn.functional as F\n",
    "import time\n",
    "\n",
    "from data_utils import BOWEncoding, WordTokenDataset\n",
    "from nltk.tokenize.regexp import WordPunctTokenizer\n",
    "from torch.utils.data import DataLoader\n"
   ]
  },
  {
   "cell_type": "markdown",
   "metadata": {},
   "source": [
    "## Load the Data"
   ]
  },
  {
   "cell_type": "code",
   "execution_count": 2,
   "metadata": {},
   "outputs": [
    {
     "name": "stdout",
     "output_type": "stream",
     "text": [
      "Done!\n",
      "Ran in 0.02m\n"
     ]
    }
   ],
   "source": [
    "start_time = time.time()\n",
    "\n",
    "data = pd.read_json('./data/train_data.json', orient='records')\n",
    "\n",
    "end_time = time.time()\n",
    "\n",
    "print('Done!')\n",
    "print(f'Ran in {(end_time - start_time)/60:.02f}m')\n"
   ]
  },
  {
   "cell_type": "code",
   "execution_count": 3,
   "metadata": {},
   "outputs": [],
   "source": [
    "train_test_split = 0.95\n",
    "split_idx = math.floor(len(data) * train_test_split)\n",
    "\n",
    "train_data = data.iloc[0:split_idx]\n",
    "valid_data = data.iloc[split_idx:]"
   ]
  },
  {
   "cell_type": "code",
   "execution_count": 4,
   "metadata": {},
   "outputs": [],
   "source": [
    "encoding = BOWEncoding(data, min_word_freq=5)\n",
    "encoding.prepare()\n"
   ]
  },
  {
   "cell_type": "code",
   "execution_count": 5,
   "metadata": {},
   "outputs": [],
   "source": [
    "train_dataset = WordTokenDataset(train_data, encoding)\n",
    "train_dataset.prepare()\n"
   ]
  },
  {
   "cell_type": "code",
   "execution_count": 6,
   "metadata": {},
   "outputs": [],
   "source": [
    "valid_dataset = WordTokenDataset(valid_data, encoding)\n",
    "valid_dataset.prepare()\n"
   ]
  },
  {
   "cell_type": "markdown",
   "metadata": {},
   "source": [
    "## Defining the Model"
   ]
  },
  {
   "cell_type": "code",
   "execution_count": 43,
   "metadata": {},
   "outputs": [],
   "source": [
    "class Model(nn.Module):\n",
    "    def __init__(self, vocab_size, n_classes):\n",
    "        super(Model, self).__init__()\n",
    "        self.vocab_size = vocab_size\n",
    "\n",
    "        self.linear = nn.Linear(vocab_size, n_classes)\n",
    "\n",
    "        \n",
    "    def forward(self, samples):\n",
    "        bow = samples.create_bow_matrix().type(torch.float32)\n",
    "        output = self.linear(bow)\n",
    "        return output\n",
    "    \n",
    "    def predict(self, samples):\n",
    "        with torch.no_grad():\n",
    "            outputs = self(samples)\n",
    "            predictions = torch.argmax(outputs, axis=1)\n",
    "\n",
    "        return predictions\n",
    "\n",
    "    "
   ]
  },
  {
   "cell_type": "markdown",
   "metadata": {},
   "source": [
    "## Training and Cross-Validating the Model"
   ]
  },
  {
   "cell_type": "code",
   "execution_count": 14,
   "metadata": {},
   "outputs": [],
   "source": [
    "hyperparams_list = [\n",
    "    { 'batch_size': 100, 'lr': 1e-3 },\n",
    "    { 'batch_size': 10,  'lr': 1e-3 },\n",
    "    { 'batch_size': 100, 'lr': 1e-2 },\n",
    "    { 'batch_size': 10,  'lr': 1e-2 }, \n",
    "]\n"
   ]
  },
  {
   "cell_type": "code",
   "execution_count": 69,
   "metadata": {},
   "outputs": [],
   "source": [
    "def train(model, criterion, optimizer, dataset, data_loader, epochs, log=True):\n",
    "    train_losses = []\n",
    "    print_every = 1\n",
    "    train_loss_estimator_size = 10000\n",
    "    \n",
    "    for epoch in range(epochs):\n",
    "        losses = []\n",
    "        \n",
    "        for i, samples in enumerate(data_loader):\n",
    "            optimizer.zero_grad()\n",
    "            output = model(samples)\n",
    "            loss = criterion(output, samples.label)\n",
    "            loss.backward()\n",
    "            optimizer.step()\n",
    "            \n",
    "            losses.append(loss)\n",
    "        \n",
    "        train_loss = torch.mean(torch.stack(losses))\n",
    "        train_losses.append(train_loss)\n",
    "        \n",
    "        if log and (epoch + 1) % print_every == 0:\n",
    "            train_loss_estimator_start = max(1, len(dataset) - train_loss_estimator_size)\n",
    "            random_start = torch.randint(high=train_loss_estimator_start, size=(1,)).item()\n",
    "            \n",
    "            samples = dataset[random_start:(random_start+train_loss_estimator_size)]\n",
    "            predictions = model.predict(samples)\n",
    "            labels = samples.label\n",
    "            \n",
    "            total = len(labels)\n",
    "            correct = torch.sum(labels == predictions)\n",
    "            \n",
    "            print(f'Epoch {epoch + 1}')\n",
    "            print(f'Accuracy: {float(correct)/total*100:.02f}%.')\n",
    "            print(f'Training Loss: {train_loss.item()}')\n",
    "            print()\n",
    "\n",
    "    return train_losses\n"
   ]
  },
  {
   "cell_type": "code",
   "execution_count": 70,
   "metadata": {},
   "outputs": [
    {
     "name": "stdout",
     "output_type": "stream",
     "text": [
      "Starting training Model 1 / 4...\n",
      "Epoch 1\n",
      "Accuracy: 22.94%.\n",
      "Training Loss: 2.3815927505493164\n",
      "\n",
      "Epoch 2\n",
      "Accuracy: 50.78%.\n",
      "Training Loss: 1.4523011445999146\n",
      "\n",
      "Epoch 3\n",
      "Accuracy: 53.06%.\n",
      "Training Loss: 1.1266120672225952\n",
      "\n",
      "Epoch 4\n",
      "Accuracy: 56.73%.\n",
      "Training Loss: 0.9377279281616211\n",
      "\n",
      "Epoch 5\n",
      "Accuracy: 90.72%.\n",
      "Training Loss: 0.8097772002220154\n",
      "\n",
      "Model completed in 31.37m.\n",
      "\n",
      "Starting training Model 2 / 4...\n",
      "Epoch 1\n",
      "Accuracy: 81.16%.\n",
      "Training Loss: 2.157008647918701\n",
      "\n",
      "Epoch 2\n",
      "Accuracy: 36.14%.\n",
      "Training Loss: 1.0843636989593506\n",
      "\n",
      "Epoch 3\n",
      "Accuracy: 50.72%.\n",
      "Training Loss: 0.8691166639328003\n",
      "\n",
      "Epoch 4\n",
      "Accuracy: 90.27%.\n",
      "Training Loss: 0.7498660683631897\n",
      "\n",
      "Epoch 5\n",
      "Accuracy: 91.27%.\n",
      "Training Loss: 0.669639527797699\n",
      "\n",
      "Model completed in 65.71m.\n",
      "\n",
      "Starting training Model 3 / 4...\n",
      "Epoch 1\n",
      "Accuracy: 34.49%.\n",
      "Training Loss: 1.6613211631774902\n",
      "\n",
      "Epoch 2\n",
      "Accuracy: 97.12%.\n",
      "Training Loss: 0.70118248462677\n",
      "\n",
      "Epoch 3\n",
      "Accuracy: 61.02%.\n",
      "Training Loss: 0.4280795156955719\n",
      "\n",
      "Epoch 4\n",
      "Accuracy: 61.95%.\n",
      "Training Loss: 0.2930200695991516\n",
      "\n",
      "Epoch 5\n",
      "Accuracy: 99.89%.\n",
      "Training Loss: 0.21118146181106567\n",
      "\n",
      "Model completed in 30.88m.\n",
      "\n",
      "Starting training Model 4 / 4...\n",
      "Epoch 1\n",
      "Accuracy: 29.76%.\n",
      "Training Loss: 1.9557303190231323\n",
      "\n",
      "Epoch 2\n",
      "Accuracy: 41.77%.\n",
      "Training Loss: 1.0300859212875366\n",
      "\n",
      "Epoch 3\n",
      "Accuracy: 48.04%.\n",
      "Training Loss: 0.7056035995483398\n",
      "\n",
      "Epoch 4\n",
      "Accuracy: 96.37%.\n",
      "Training Loss: 0.5242593884468079\n",
      "\n",
      "Epoch 5\n",
      "Accuracy: 99.26%.\n",
      "Training Loss: 0.41023731231689453\n",
      "\n",
      "Model completed in 65.34m.\n",
      "\n"
     ]
    }
   ],
   "source": [
    "epochs = 5\n",
    "\n",
    "models = []\n",
    "train_losses_list = []\n",
    "valid_losses = []\n",
    "\n",
    "for i, hyperparams in enumerate(hyperparams_list):\n",
    "    print(f'Starting training Model {i+1} / {len(hyperparams_list)}...')\n",
    "    \n",
    "    start_time = time.time()\n",
    "    \n",
    "    batch_size = hyperparams['batch_size']\n",
    "    lr = hyperparams['lr']\n",
    "    \n",
    "    # 1. Setup Data Loader\n",
    "    \n",
    "    data_loader = DataLoader(dataset=train_dataset,\n",
    "                             batch_size=batch_size,\n",
    "                             shuffle=False,\n",
    "                             collate_fn=data_utils.collate_samples)\n",
    "    \n",
    "    # 2. Create the Model\n",
    "    \n",
    "    model = Model(vocab_size=encoding.vocab_size,\n",
    "                  n_classes=encoding.n_classes())\n",
    "    \n",
    "    # 3. Setup Criterion and Optimizer\n",
    "    \n",
    "    criterion = torch.nn.CrossEntropyLoss()\n",
    "    \n",
    "    \n",
    "    optimizer = torch.optim.Adam(model.parameters(), lr=lr)\n",
    "    \n",
    "    # 4. Train the Model\n",
    "    \n",
    "    train_losses = train(model,\n",
    "                         criterion,\n",
    "                         optimizer,\n",
    "                         train_dataset,\n",
    "                         data_loader,\n",
    "                         epochs)\n",
    "    \n",
    "    # 5. Calculate Validation Loss\n",
    "    \n",
    "    with torch.no_grad():\n",
    "        valid_samples = valid_dataset[:]\n",
    "        outputs = model(valid_samples)\n",
    "        valid_loss = criterion(outputs, valid_samples.label)\n",
    "        valid_losses.append(valid_loss)\n",
    "        \n",
    "    end_time = time.time()\n",
    "    \n",
    "    models.append(model)\n",
    "    train_losses_list.append(train_losses)\n",
    "    \n",
    "    print(f'Model completed in {(end_time - start_time)/60:.02f}m.')\n",
    "    print()\n"
   ]
  },
  {
   "cell_type": "markdown",
   "metadata": {},
   "source": [
    "## Viewing the Results"
   ]
  },
  {
   "cell_type": "code",
   "execution_count": 71,
   "metadata": {},
   "outputs": [
    {
     "data": {
      "image/png": "[encoded data removed]",
      "text/plain": [
       "<Figure size 432x288 with 1 Axes>"
      ]
     },
     "metadata": {
      "needs_background": "light"
     },
     "output_type": "display_data"
    }
   ],
   "source": [
    "for i, model in enumerate(models):\n",
    "    train_losses = train_losses_list[i]\n",
    "    plt.plot(train_losses)\n",
    "    \n",
    "plt.legend([f'Model {i+1}' for i in range(len(models))])\n",
    "plt.show()"
   ]
  },
  {
   "cell_type": "code",
   "execution_count": 79,
   "metadata": {},
   "outputs": [
    {
     "name": "stdout",
     "output_type": "stream",
     "text": [
      "Best Model: 1\n"
     ]
    }
   ],
   "source": [
    "best_model_idx = torch.argmin(torch.FloatTensor(valid_losses)).item()\n",
    "best_model = models[best_model_idx]\n",
    "\n",
    "print(f'Best Model: {best_model_idx+1}')"
   ]
  },
  {
   "cell_type": "markdown",
   "metadata": {},
   "source": [
    "### Accuracy"
   ]
  },
  {
   "cell_type": "code",
   "execution_count": 81,
   "metadata": {},
   "outputs": [],
   "source": [
    "valid_samples = valid_dataset[:]\n"
   ]
  },
  {
   "cell_type": "code",
   "execution_count": 82,
   "metadata": {},
   "outputs": [
    {
     "name": "stdout",
     "output_type": "stream",
     "text": [
      "Accuracy of Best Model: 74.99%.\n"
     ]
    }
   ],
   "source": [
    "predictions = best_model.predict(valid_samples)\n",
    "\n",
    "total = len(valid_samples.label)\n",
    "correct = torch.sum(predictions == valid_samples.label)\n",
    "accuracy = float(correct) / total\n",
    "\n",
    "print(f'Accuracy of Best Model: {accuracy*100:.02f}%.')\n"
   ]
  },
  {
   "cell_type": "markdown",
   "metadata": {},
   "source": [
    "### Confusion Matrix"
   ]
  },
  {
   "cell_type": "code",
   "execution_count": 89,
   "metadata": {},
   "outputs": [],
   "source": [
    "def create_confusion_matrix(labels, predictions):\n",
    "        # Displaying a confusion matrix of the validation results for our model.\n",
    "\n",
    "    categories = labels.unique()\n",
    "    category_encoder = { c.item():i for i,c in enumerate(categories) }\n",
    "\n",
    "    confusion_matrix = np.random.rand(len(categories), len(categories))\n",
    "\n",
    "    for i, category in enumerate(categories):\n",
    "        row = np.zeros(len(categories))\n",
    "\n",
    "        cat_mask = (labels == category.item()).tolist()\n",
    "        cat_preds = predictions[cat_mask]\n",
    "        \n",
    "        for category in categories:\n",
    "            pred_count = torch.sum(cat_preds == category)\n",
    "            row[category_encoder[category.item()]] = pred_count\n",
    "            \n",
    "        confusion_matrix[i, :] = row / len(cat_preds)\n",
    "\n",
    "    return confusion_matrix, category_encoder\n"
   ]
  },
  {
   "cell_type": "code",
   "execution_count": 90,
   "metadata": {},
   "outputs": [],
   "source": [
    "def show_confusion_matrix(confusion_matrix):\n",
    "    fig = plt.figure()\n",
    "    ax = fig.add_subplot(111)\n",
    "\n",
    "    cax = ax.matshow(confusion_matrix)\n",
    "\n",
    "    fig.colorbar(cax)\n",
    "\n",
    "    plt.xlabel('Predicted Labels')\n",
    "    plt.ylabel('True Labels')\n"
   ]
  },
  {
   "cell_type": "code",
   "execution_count": 91,
   "metadata": {},
   "outputs": [
    {
     "data": {
      "image/png": "[encoded data removed]",
      "text/plain": [
       "<Figure size 432x288 with 2 Axes>"
      ]
     },
     "metadata": {
      "needs_background": "light"
     },
     "output_type": "display_data"
    }
   ],
   "source": [
    "confusion_matrix, category_encoder = create_confusion_matrix(valid_samples.label, predictions)\n",
    "show_confusion_matrix(confusion_matrix)\n"
   ]
  },
  {
   "cell_type": "code",
   "execution_count": 92,
   "metadata": {},
   "outputs": [],
   "source": [
    "def top_k_labeling_errors(confusion_matrix, category_decoder, k):\n",
    "    \n",
    "    # ZSubtract 1 from diagonal so that the values along\n",
    "    # diagonal do not show up as top values.\n",
    "    diag = np.eye(confusion_matrix.shape[0])\n",
    "    mat = confusion_matrix - diag\n",
    "\n",
    "    label_errors = []\n",
    "\n",
    "    for i in range(k):\n",
    "        argmax = np.argmax(mat)\n",
    "    \n",
    "        # Getting row and col components. Note we are assuming\n",
    "        # matrix has 2 dimensions.\n",
    "        row = math.floor(argmax / mat.shape[0])\n",
    "        col = argmax % mat.shape[1]\n",
    "\n",
    "        label_error = (category_decoder[row], category_decoder[col])\n",
    "        label_errors.append(label_error)\n",
    "\n",
    "        # Zero out the element so we find a different argmax\n",
    "        # on next pass.\n",
    "        mat[row, col] = 0\n",
    "    \n",
    "    return label_errors\n"
   ]
  },
  {
   "cell_type": "code",
   "execution_count": 96,
   "metadata": {},
   "outputs": [
    {
     "name": "stdout",
     "output_type": "stream",
     "text": [
      "1. \"SCIENCE\" confused for \"WELLNESS\"\n",
      "2. \"IMPACT\" confused for \"WELLNESS\"\n",
      "3. \"ENVIRONMENT\" confused for \"WELLNESS\"\n",
      "4. \"BUSINESS\" confused for \"MONEY\"\n",
      "5. \"BLACK VOICES\" confused for \"WELLNESS\"\n"
     ]
    }
   ],
   "source": [
    "category_decoder = {i:c for c,i in category_encoder.items()}\n",
    "\n",
    "labeling_errors = top_k_labeling_errors(confusion_matrix, category_decoder, k=5)\n",
    "label_decoder = { i:l for l,i in encoding._label_encoder.items() }\n",
    "\n",
    "# Looking at the most frequent labeling errors.\n",
    "for i, error in enumerate(labeling_errors):\n",
    "    print(f'{i+1}. \"{label_decoder[error[0]]}\" confused for \"{label_decoder[error[1]]}\"')\n"
   ]
  },
  {
   "cell_type": "markdown",
   "metadata": {},
   "source": [
    "## Persisting the Model"
   ]
  },
  {
   "cell_type": "code",
   "execution_count": 97,
   "metadata": {},
   "outputs": [],
   "source": [
    "torch.save(best_model.state_dict(), './models/bow_model.torch')\n"
   ]
  },
  {
   "cell_type": "code",
   "execution_count": null,
   "metadata": {},
   "outputs": [],
   "source": []
  }
 ],
 "metadata": {
  "kernelspec": {
   "display_name": "Python 3",
   "language": "python",
   "name": "python3"
  },
  "language_info": {
   "codemirror_mode": {
    "name": "ipython",
    "version": 3
   },
   "file_extension": ".py",
   "mimetype": "text/x-python",
   "name": "python",
   "nbconvert_exporter": "python",
   "pygments_lexer": "ipython3",
   "version": "3.7.4"
  }
 },
 "nbformat": 4,
 "nbformat_minor": 4
}
