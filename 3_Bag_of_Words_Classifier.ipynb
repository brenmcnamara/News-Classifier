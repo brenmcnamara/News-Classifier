{
 "cells": [
  {
   "cell_type": "markdown",
   "metadata": {},
   "source": [
    "# Bag of Words Classifier\n",
    "\n",
    "Here is a bag-of-words classifier for news topics. This model is a simple logistic regression model using bag of words. Before considering whether we need to use a more complex ML algorithm, let's try using a simple classifier for the news data."
   ]
  },
  {
   "cell_type": "code",
   "execution_count": 123,
   "metadata": {},
   "outputs": [],
   "source": [
    "import matplotlib.pyplot as plt\n",
    "import numpy as np\n",
    "import pandas as pd\n",
    "import string\n",
    "import time\n",
    "\n",
    "from joblib import dump, load\n",
    "from nltk.tokenize.regexp import WordPunctTokenizer\n",
    "from sklearn.linear_model import LogisticRegression\n",
    "from sklearn.model_selection import cross_validate, train_test_split\n"
   ]
  },
  {
   "cell_type": "markdown",
   "metadata": {},
   "source": [
    "## Load the Data"
   ]
  },
  {
   "cell_type": "code",
   "execution_count": 124,
   "metadata": {},
   "outputs": [
    {
     "name": "stdout",
     "output_type": "stream",
     "text": [
      "Done!\n",
      "Ran in 0.45m\n"
     ]
    }
   ],
   "source": [
    "start_time = time.time()\n",
    "\n",
    "data = pd.read_pickle('./data/train_data_mini.pickle')\n",
    "labels = pd.read_pickle('./data/train_labels_mini.pickle')\n",
    "\n",
    "end_time = time.time()\n",
    "\n",
    "print('Done!')\n",
    "print(f'Ran in {(end_time - start_time)/60:.02f}m')\n"
   ]
  },
  {
   "cell_type": "code",
   "execution_count": 125,
   "metadata": {},
   "outputs": [],
   "source": [
    "train_data, valid_data, train_labels, valid_labels = train_test_split(data, labels, test_size=.2)"
   ]
  },
  {
   "cell_type": "markdown",
   "metadata": {},
   "source": [
    "## Training and Cross-Validating the Model"
   ]
  },
  {
   "cell_type": "code",
   "execution_count": 126,
   "metadata": {},
   "outputs": [],
   "source": [
    "n_cats = 20\n",
    "n_per_cat = 20\n",
    "\n",
    "cats = train_labels.value_counts().iloc[:n_cats]\n",
    "\n",
    "# n items from each category.\n",
    "mask = np.zeros(len(train_labels))\n",
    "\n",
    "for cat in cats.index:\n",
    "    cat_mask = (train_labels == cat).values\n",
    "    index_values = train_data[cat_mask].index.values\n",
    "\n",
    "    cut_off = index_values[n_per_cat]\n",
    "    \n",
    "    mask = mask + (cat_mask & (train_data.index.values < cut_off))\n",
    "\n",
    "data_tmp = train_data[mask.astype(bool)]\n",
    "labels_tmp = train_labels[mask.astype(bool)]"
   ]
  },
  {
   "cell_type": "code",
   "execution_count": null,
   "metadata": {},
   "outputs": [
    {
     "name": "stdout",
     "output_type": "stream",
     "text": [
      "Training and validating model 1 / 3 ...\n"
     ]
    }
   ],
   "source": [
    "models = [\n",
    "    LogisticRegression(multi_class='multinomial', solver='lbfgs', C=1e1, max_iter=4000, n_jobs=-1),\n",
    "    LogisticRegression(multi_class='multinomial', solver='lbfgs', C=1e2, max_iter=4000, n_jobs=-1),\n",
    "    LogisticRegression(multi_class='multinomial', solver='lbfgs', C=1e3, max_iter=4000, n_jobs=-1),\n",
    "]\n",
    "\n",
    "start_time = time.time()\n",
    "\n",
    "valid_scores = []\n",
    "\n",
    "for i, model in enumerate(models):\n",
    "    print(f'Training and validating model {i+1} / {len(models)} ...')\n",
    "\n",
    "    model.fit(data_tmp, labels_tmp)\n",
    "    valid_score = model.score(valid_data, valid_labels)\n",
    "    valid_scores.append(valid_score)\n",
    "\n",
    "best_model_index = valid_scores.index(max(valid_scores))\n",
    "best_model = models[best_model_index]\n",
    "\n",
    "end_time = time.time()\n",
    "\n",
    "print(f'Best model is #{best_model_index + 1}')\n",
    "print(f'Total training time: {(end_time - start_time)/60:.02f}m')\n"
   ]
  },
  {
   "cell_type": "markdown",
   "metadata": {},
   "source": [
    "## Viewing the Results"
   ]
  },
  {
   "cell_type": "code",
   "execution_count": null,
   "metadata": {},
   "outputs": [],
   "source": [
    "valid_preds = best_model.predict(valid_data)\n"
   ]
  },
  {
   "cell_type": "code",
   "execution_count": null,
   "metadata": {},
   "outputs": [],
   "source": [
    "correct = np.sum(predictions == valid_labels)\n",
    "total = len(valid_labels)\n",
    "\n",
    "print(f'Validation accuracy of {(correct / total)*100:.02f}%')\n"
   ]
  },
  {
   "cell_type": "code",
   "execution_count": null,
   "metadata": {},
   "outputs": [],
   "source": [
    "def show_confusion_matrix(labels, predictions):\n",
    "    # Displaying a confusion matrix of the validation results for our model.\n",
    "\n",
    "    categories = labels.unique()\n",
    "    category_encoder = { c:i for i,c in enumerate(categories) }\n",
    "\n",
    "    confusion_matrix = np.random.rand(len(categories), len(categories))\n",
    "\n",
    "    for i, category in enumerate(categories):\n",
    "        row = np.zeros(len(categories))\n",
    "\n",
    "        cat_mask = (labels == category).tolist()\n",
    "        cat_preds = predictions[cat_mask]\n",
    "        \n",
    "        for category in categories:\n",
    "            pred_count = np.sum(cat_preds == category)\n",
    "            row[category_encoder[category]] = pred_count\n",
    "            \n",
    "        confusion_matrix[i, :] = row / len(cat_preds)\n",
    "\n",
    "\n",
    "    fig = plt.figure()\n",
    "    ax = fig.add_subplot(111)\n",
    "\n",
    "    cax = ax.matshow(confusion_matrix)\n",
    "\n",
    "    fig.colorbar(cax)\n",
    "\n",
    "    plt.xlabel('Predicted Labels')\n",
    "    plt.ylabel('True Labels')\n",
    "\n",
    "    return category_encoder\n"
   ]
  },
  {
   "cell_type": "code",
   "execution_count": null,
   "metadata": {},
   "outputs": [],
   "source": [
    "show_confusion_matrix(valid_labels, valid_preds)"
   ]
  },
  {
   "cell_type": "markdown",
   "metadata": {},
   "source": [
    "## Persisting the Model"
   ]
  },
  {
   "cell_type": "code",
   "execution_count": null,
   "metadata": {},
   "outputs": [],
   "source": [
    "dump(best_model, 'models/bag_of_words_model.joblib')"
   ]
  },
  {
   "cell_type": "code",
   "execution_count": null,
   "metadata": {},
   "outputs": [],
   "source": []
  }
 ],
 "metadata": {
  "kernelspec": {
   "display_name": "Python 3",
   "language": "python",
   "name": "python3"
  },
  "language_info": {
   "codemirror_mode": {
    "name": "ipython",
    "version": 3
   },
   "file_extension": ".py",
   "mimetype": "text/x-python",
   "name": "python",
   "nbconvert_exporter": "python",
   "pygments_lexer": "ipython3",
   "version": "3.7.4"
  }
 },
 "nbformat": 4,
 "nbformat_minor": 4
}
